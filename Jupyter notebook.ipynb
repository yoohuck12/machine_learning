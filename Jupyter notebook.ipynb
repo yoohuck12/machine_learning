{
 "cells": [
  {
   "cell_type": "markdown",
   "metadata": {},
   "source": [
    "# Jupiter notebook setting"
   ]
  },
  {
   "cell_type": "markdown",
   "metadata": {},
   "source": [
    "## How to install"
   ]
  },
  {
   "cell_type": "code",
   "execution_count": 2,
   "metadata": {},
   "outputs": [
    {
     "name": "stdout",
     "output_type": "stream",
     "text": [
      "Requirement already satisfied: jupyter in /Users/yoohyuck/venv/lib/python3.6/site-packages (1.0.0)\n",
      "Requirement already satisfied: ipywidgets in /Users/yoohyuck/venv/lib/python3.6/site-packages (from jupyter) (7.6.2)\n",
      "Requirement already satisfied: jupyter-console in /Users/yoohyuck/venv/lib/python3.6/site-packages (from jupyter) (6.2.0)\n",
      "Requirement already satisfied: nbconvert in /Users/yoohyuck/venv/lib/python3.6/site-packages (from jupyter) (6.0.7)\n",
      "Requirement already satisfied: qtconsole in /Users/yoohyuck/venv/lib/python3.6/site-packages (from jupyter) (5.0.1)\n",
      "Requirement already satisfied: ipykernel in /Users/yoohyuck/venv/lib/python3.6/site-packages (from jupyter) (5.4.2)\n",
      "Requirement already satisfied: notebook in /Users/yoohyuck/venv/lib/python3.6/site-packages (from jupyter) (6.1.6)\n",
      "Requirement already satisfied: ipython>=4.0.0; python_version >= \"3.3\" in /Users/yoohyuck/venv/lib/python3.6/site-packages (from ipywidgets->jupyter) (7.16.1)\n",
      "Requirement already satisfied: widgetsnbextension~=3.5.0 in /Users/yoohyuck/venv/lib/python3.6/site-packages (from ipywidgets->jupyter) (3.5.1)\n",
      "Requirement already satisfied: nbformat>=4.2.0 in /Users/yoohyuck/venv/lib/python3.6/site-packages (from ipywidgets->jupyter) (5.0.8)\n",
      "Requirement already satisfied: jupyterlab-widgets>=1.0.0; python_version >= \"3.5\" in /Users/yoohyuck/venv/lib/python3.6/site-packages (from ipywidgets->jupyter) (1.0.0)\n",
      "Requirement already satisfied: traitlets>=4.3.1 in /Users/yoohyuck/venv/lib/python3.6/site-packages (from ipywidgets->jupyter) (4.3.3)\n",
      "Requirement already satisfied: pygments in /Users/yoohyuck/venv/lib/python3.6/site-packages (from jupyter-console->jupyter) (2.7.3)\n",
      "Requirement already satisfied: prompt-toolkit!=3.0.0,!=3.0.1,<3.1.0,>=2.0.0 in /Users/yoohyuck/venv/lib/python3.6/site-packages (from jupyter-console->jupyter) (3.0.8)\n",
      "Requirement already satisfied: jupyter-client in /Users/yoohyuck/venv/lib/python3.6/site-packages (from jupyter-console->jupyter) (6.1.7)\n",
      "Requirement already satisfied: mistune<2,>=0.8.1 in /Users/yoohyuck/venv/lib/python3.6/site-packages (from nbconvert->jupyter) (0.8.4)\n",
      "Requirement already satisfied: jupyter-core in /Users/yoohyuck/venv/lib/python3.6/site-packages (from nbconvert->jupyter) (4.7.0)\n",
      "Requirement already satisfied: defusedxml in /Users/yoohyuck/venv/lib/python3.6/site-packages (from nbconvert->jupyter) (0.6.0)\n",
      "Requirement already satisfied: entrypoints>=0.2.2 in /Users/yoohyuck/venv/lib/python3.6/site-packages (from nbconvert->jupyter) (0.3)\n",
      "Requirement already satisfied: jinja2>=2.4 in /Users/yoohyuck/venv/lib/python3.6/site-packages (from nbconvert->jupyter) (2.11.2)\n",
      "Requirement already satisfied: pandocfilters>=1.4.1 in /Users/yoohyuck/venv/lib/python3.6/site-packages (from nbconvert->jupyter) (1.4.3)\n",
      "Requirement already satisfied: testpath in /Users/yoohyuck/venv/lib/python3.6/site-packages (from nbconvert->jupyter) (0.4.4)\n",
      "Requirement already satisfied: jupyterlab-pygments in /Users/yoohyuck/venv/lib/python3.6/site-packages (from nbconvert->jupyter) (0.1.2)\n",
      "Requirement already satisfied: bleach in /Users/yoohyuck/venv/lib/python3.6/site-packages (from nbconvert->jupyter) (3.2.1)\n",
      "Requirement already satisfied: nbclient<0.6.0,>=0.5.0 in /Users/yoohyuck/venv/lib/python3.6/site-packages (from nbconvert->jupyter) (0.5.1)\n",
      "Requirement already satisfied: qtpy in /Users/yoohyuck/venv/lib/python3.6/site-packages (from qtconsole->jupyter) (1.9.0)\n",
      "Requirement already satisfied: pyzmq>=17.1 in /Users/yoohyuck/venv/lib/python3.6/site-packages (from qtconsole->jupyter) (20.0.0)\n",
      "Requirement already satisfied: ipython-genutils in /Users/yoohyuck/venv/lib/python3.6/site-packages (from qtconsole->jupyter) (0.2.0)\n",
      "Requirement already satisfied: appnope; platform_system == \"Darwin\" in /Users/yoohyuck/venv/lib/python3.6/site-packages (from ipykernel->jupyter) (0.1.2)\n",
      "Requirement already satisfied: tornado>=4.2 in /Users/yoohyuck/venv/lib/python3.6/site-packages (from ipykernel->jupyter) (6.1)\n",
      "Requirement already satisfied: argon2-cffi in /Users/yoohyuck/venv/lib/python3.6/site-packages (from notebook->jupyter) (20.1.0)\n",
      "Requirement already satisfied: terminado>=0.8.3 in /Users/yoohyuck/venv/lib/python3.6/site-packages (from notebook->jupyter) (0.9.1)\n",
      "Requirement already satisfied: prometheus-client in /Users/yoohyuck/venv/lib/python3.6/site-packages (from notebook->jupyter) (0.9.0)\n",
      "Requirement already satisfied: Send2Trash in /Users/yoohyuck/venv/lib/python3.6/site-packages (from notebook->jupyter) (1.5.0)\n",
      "Requirement already satisfied: pexpect; sys_platform != \"win32\" in /Users/yoohyuck/venv/lib/python3.6/site-packages (from ipython>=4.0.0; python_version >= \"3.3\"->ipywidgets->jupyter) (4.8.0)\n",
      "Requirement already satisfied: decorator in /Users/yoohyuck/venv/lib/python3.6/site-packages (from ipython>=4.0.0; python_version >= \"3.3\"->ipywidgets->jupyter) (4.4.2)\n",
      "Requirement already satisfied: backcall in /Users/yoohyuck/venv/lib/python3.6/site-packages (from ipython>=4.0.0; python_version >= \"3.3\"->ipywidgets->jupyter) (0.2.0)\n",
      "Requirement already satisfied: pickleshare in /Users/yoohyuck/venv/lib/python3.6/site-packages (from ipython>=4.0.0; python_version >= \"3.3\"->ipywidgets->jupyter) (0.7.5)\n",
      "Requirement already satisfied: jedi>=0.10 in /Users/yoohyuck/venv/lib/python3.6/site-packages (from ipython>=4.0.0; python_version >= \"3.3\"->ipywidgets->jupyter) (0.17.2)\n",
      "Requirement already satisfied: setuptools>=18.5 in /Users/yoohyuck/venv/lib/python3.6/site-packages (from ipython>=4.0.0; python_version >= \"3.3\"->ipywidgets->jupyter) (51.1.1)\n",
      "Requirement already satisfied: jsonschema!=2.5.0,>=2.4 in /Users/yoohyuck/venv/lib/python3.6/site-packages (from nbformat>=4.2.0->ipywidgets->jupyter) (3.2.0)\n",
      "Requirement already satisfied: six in /Users/yoohyuck/venv/lib/python3.6/site-packages (from traitlets>=4.3.1->ipywidgets->jupyter) (1.15.0)\n",
      "Requirement already satisfied: wcwidth in /Users/yoohyuck/venv/lib/python3.6/site-packages (from prompt-toolkit!=3.0.0,!=3.0.1,<3.1.0,>=2.0.0->jupyter-console->jupyter) (0.2.5)\n",
      "Requirement already satisfied: python-dateutil>=2.1 in /Users/yoohyuck/venv/lib/python3.6/site-packages (from jupyter-client->jupyter-console->jupyter) (2.8.1)\n",
      "Requirement already satisfied: MarkupSafe>=0.23 in /Users/yoohyuck/venv/lib/python3.6/site-packages (from jinja2>=2.4->nbconvert->jupyter) (1.1.1)\n",
      "Requirement already satisfied: webencodings in /Users/yoohyuck/venv/lib/python3.6/site-packages (from bleach->nbconvert->jupyter) (0.5.1)\n",
      "Requirement already satisfied: packaging in /Users/yoohyuck/venv/lib/python3.6/site-packages (from bleach->nbconvert->jupyter) (20.8)\n",
      "Requirement already satisfied: nest-asyncio in /Users/yoohyuck/venv/lib/python3.6/site-packages (from nbclient<0.6.0,>=0.5.0->nbconvert->jupyter) (1.4.3)\n",
      "Requirement already satisfied: async-generator in /Users/yoohyuck/venv/lib/python3.6/site-packages (from nbclient<0.6.0,>=0.5.0->nbconvert->jupyter) (1.10)\n",
      "Requirement already satisfied: cffi>=1.0.0 in /Users/yoohyuck/venv/lib/python3.6/site-packages (from argon2-cffi->notebook->jupyter) (1.14.4)\n",
      "Requirement already satisfied: ptyprocess; os_name != \"nt\" in /Users/yoohyuck/venv/lib/python3.6/site-packages (from terminado>=0.8.3->notebook->jupyter) (0.6.0)\n",
      "Requirement already satisfied: parso<0.8.0,>=0.7.0 in /Users/yoohyuck/venv/lib/python3.6/site-packages (from jedi>=0.10->ipython>=4.0.0; python_version >= \"3.3\"->ipywidgets->jupyter) (0.7.1)\n",
      "Requirement already satisfied: importlib-metadata; python_version < \"3.8\" in /Users/yoohyuck/venv/lib/python3.6/site-packages (from jsonschema!=2.5.0,>=2.4->nbformat>=4.2.0->ipywidgets->jupyter) (3.3.0)\n",
      "Requirement already satisfied: attrs>=17.4.0 in /Users/yoohyuck/venv/lib/python3.6/site-packages (from jsonschema!=2.5.0,>=2.4->nbformat>=4.2.0->ipywidgets->jupyter) (20.3.0)\n",
      "Requirement already satisfied: pyrsistent>=0.14.0 in /Users/yoohyuck/venv/lib/python3.6/site-packages (from jsonschema!=2.5.0,>=2.4->nbformat>=4.2.0->ipywidgets->jupyter) (0.17.3)\n",
      "Requirement already satisfied: pyparsing>=2.0.2 in /Users/yoohyuck/venv/lib/python3.6/site-packages (from packaging->bleach->nbconvert->jupyter) (2.4.7)\n",
      "Requirement already satisfied: pycparser in /Users/yoohyuck/venv/lib/python3.6/site-packages (from cffi>=1.0.0->argon2-cffi->notebook->jupyter) (2.20)\n",
      "Requirement already satisfied: typing-extensions>=3.6.4; python_version < \"3.8\" in /Users/yoohyuck/venv/lib/python3.6/site-packages (from importlib-metadata; python_version < \"3.8\"->jsonschema!=2.5.0,>=2.4->nbformat>=4.2.0->ipywidgets->jupyter) (3.7.4.3)\n",
      "Requirement already satisfied: zipp>=0.5 in /Users/yoohyuck/venv/lib/python3.6/site-packages (from importlib-metadata; python_version < \"3.8\"->jsonschema!=2.5.0,>=2.4->nbformat>=4.2.0->ipywidgets->jupyter) (3.4.0)\n"
     ]
    },
    {
     "name": "stdout",
     "output_type": "stream",
     "text": [
      "\u001b[33mYou are using pip version 18.1, however version 20.3.3 is available.\r\n",
      "You should consider upgrading via the 'pip install --upgrade pip' command.\u001b[0m\r\n"
     ]
    }
   ],
   "source": [
    "! pip3 install jupyter\n",
    "# jupyter notebook"
   ]
  },
  {
   "cell_type": "markdown",
   "metadata": {},
   "source": [
    "## How to apply venv to jupyter notebook"
   ]
  },
  {
   "cell_type": "markdown",
   "metadata": {},
   "source": [
    "### Reference\n",
    "[Jupyter Notebook 에 가상환경 커널 추가하는 방법](https://somjang.tistory.com/entry/Python-Jupyter-Notebook-에-가상환경-커널-추가하는-방법)"
   ]
  },
  {
   "cell_type": "markdown",
   "metadata": {},
   "source": [
    "위와 같은 방법으로 Python에서 만든 가상환경을 Jupyter Notebook에 추가하는 방법은 다음과 같습니다.\n",
    "\n",
    " \n",
    "\n",
    "먼저 만든 가상환경을 활성화 시킵니다. 만들어둔 가상환경의 이름이 myvenv라고 가정하면\n",
    "```shell\n",
    "$ source myvenv/bin/activate\n",
    "```\n",
    "위와 같은 방법으로 활성화시켜줍니다.\n",
    "\n",
    " \n",
    "\n",
    "윈도우의 경우\n",
    "```shell\n",
    "$ myvenv\\Scripts\\activate\n",
    "```\n",
    "\n",
    "그 다음 pip 명령어를 통해 ipykernel을 설치합니다.\n",
    "```shell\n",
    "$ pip install ipykernel\n",
    "```\n",
    "\n",
    "그리고 Jupyter Notebook에 현재 가상환경을 추가합니다.\n",
    "```shell\n",
    "$ python -m ipykernel install --user --name myvenv --display-name \"PythonHome_p36\"\n",
    "$ python -m ipykernel install --user --name [virtualEnv] --display-name \"[displayKenrelName]\"\n",
    "```\n",
    "\n",
    "출처: https://somjang.tistory.com/entry/Python-Jupyter-Notebook-에-가상환경-커널-추가하는-방법 [솜씨좋은장씨]"
   ]
  },
  {
   "cell_type": "markdown",
   "metadata": {},
   "source": [
    "## Shortcuts"
   ]
  },
  {
   "cell_type": "markdown",
   "metadata": {},
   "source": [
    "[15 Tips and Tricks to Use Jupyter Notebook More Efficiently](https://towardsdatascience.com/15-tips-and-tricks-to-use-jupyter-notebook-more-efficiently-ef05ede4e4b9)\n",
    "\n",
    "[28 Jupyter Notebook Tips, Tricks, and Shortcuts](https://www.dataquest.io/blog/jupyter-notebook-tips-tricks-shortcuts)"
   ]
  },
  {
   "cell_type": "markdown",
   "metadata": {},
   "source": [
    "```\n",
    "Another way to access keyboard shortcuts, and a handy way to learn them is to use the command palette: Cmd + Shift + P\n",
    "Esc will take you into command mode where you can navigate around your notebook with arrow keys.\n",
    "While in command mode:\n",
    "A to insert a new cell above the current cell, B to insert a new cell below.\n",
    "M to change the current cell to Markdown, Y to change it back to code\n",
    "D + D (press the key twice) to delete the current cell\n",
    "Enter will take you from command mode back into edit mode for the given cell.\n",
    "Shift + Tab will show you the Docstring (documentation) for the the object you have just typed in a code cell – you can keep pressing this short cut to cycle through a few modes of documentation.\n",
    "Ctrl + Shift + - will split the current cell into two from where your cursor is.\n",
    "Esc + F Find and replace on your code but not the outputs.\n",
    "Esc + O Toggle cell output.\n",
    "Select Multiple Cells:\n",
    "Shift + J or Shift + Down selects the next sell in a downwards direction. You can also select sells in an upwards direction by using Shift + K or Shift + Up.\n",
    "Once cells are selected, you can then delete / copy / cut / paste / run them as a batch. This is helpful when you need to move parts of a notebook.\n",
    "You can also use Shift + M to merge multiple cells.\n",
    "```"
   ]
  },
  {
   "cell_type": "markdown",
   "metadata": {},
   "source": [
    "### Markdown reference\n",
    "[Markdown 마크다운 문법](https://simhyejin.github.io/2016/06/30/Markdown-syntax/#code-blocks)"
   ]
  },
  {
   "cell_type": "markdown",
   "metadata": {},
   "source": [
    "코드 타입 옆에 타입을 지정할 수 있다.\n",
    "(ex c, java, xml, json 등등)\n",
    "```c\n",
    "void f()\n",
    "    printf(%s,“이것은 c 코드 입니다”);\n",
    "}\n",
    "```"
   ]
  },
  {
   "cell_type": "code",
   "execution_count": null,
   "metadata": {},
   "outputs": [],
   "source": []
  }
 ],
 "metadata": {
  "kernelspec": {
   "display_name": "Python 3",
   "language": "python",
   "name": "python3"
  },
  "language_info": {
   "codemirror_mode": {
    "name": "ipython",
    "version": 3
   },
   "file_extension": ".py",
   "mimetype": "text/x-python",
   "name": "python",
   "nbconvert_exporter": "python",
   "pygments_lexer": "ipython3",
   "version": "3.6.8"
  }
 },
 "nbformat": 4,
 "nbformat_minor": 4
}
